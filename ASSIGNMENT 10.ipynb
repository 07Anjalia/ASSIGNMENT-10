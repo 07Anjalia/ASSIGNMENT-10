{
 "cells": [
  {
   "cell_type": "code",
   "execution_count": null,
   "id": "9a86e140-274d-4bbf-808c-597b2eb90c6b",
   "metadata": {},
   "outputs": [],
   "source": [
    "1. How do you distinguish between shutil.copy() and shutil.copytree()?"
   ]
  },
  {
   "cell_type": "code",
   "execution_count": null,
   "id": "0ca71a4f-fd03-4403-be3c-cb39d62275e3",
   "metadata": {},
   "outputs": [],
   "source": [
    "ANS = shutil.copy : Copies a single file\n",
    "      shutil.copytree() : will copy an entire folder and every folder and file contained in it"
   ]
  },
  {
   "cell_type": "code",
   "execution_count": null,
   "id": "151e338f-7300-4b4a-b867-759a7bf5f103",
   "metadata": {},
   "outputs": [],
   "source": []
  },
  {
   "cell_type": "code",
   "execution_count": null,
   "id": "c862840d-8948-4621-a83b-e79c07c52b45",
   "metadata": {},
   "outputs": [],
   "source": [
    "2. What function is used to rename files??"
   ]
  },
  {
   "cell_type": "code",
   "execution_count": 4,
   "id": "aee3f6c7-b583-45b2-b0c2-25e0253c6aaf",
   "metadata": {},
   "outputs": [],
   "source": [
    "Ans. import os\n",
    "os.rename(\"text.txt\",\"testnew.txt\")"
   ]
  },
  {
   "cell_type": "code",
   "execution_count": null,
   "id": "bcee6924-34bf-4e90-8132-f3c2f1ce8408",
   "metadata": {},
   "outputs": [],
   "source": []
  },
  {
   "cell_type": "code",
   "execution_count": null,
   "id": "fb7cefd1-f6f7-4724-8073-e6dce0552612",
   "metadata": {},
   "outputs": [],
   "source": [
    "3. What is the difference between the delete functions in the send2trash and shutil modules?"
   ]
  },
  {
   "cell_type": "code",
   "execution_count": null,
   "id": "f2006218-0a3a-46c8-b8e7-dc56fc065d26",
   "metadata": {},
   "outputs": [],
   "source": [
    " import shutil"
   ]
  },
  {
   "cell_type": "code",
   "execution_count": null,
   "id": "833df5fd-1559-479b-8f21-8c81b0b6f05f",
   "metadata": {},
   "outputs": [],
   "source": [
    "shutil.retree(): The shutil module’s rmtree() function can be used to delete files or folders. But, this function delete the files permanently. The operations cannot be undone if there were any accidental deletions performed"
   ]
  },
  {
   "cell_type": "code",
   "execution_count": null,
   "id": "4dfa649a-10d4-4e24-80c0-3dfccf327092",
   "metadata": {},
   "outputs": [],
   "source": [
    "import send2trash"
   ]
  },
  {
   "cell_type": "code",
   "execution_count": null,
   "id": "cd807ca4-afcc-459b-97dc-9a778b8817f3",
   "metadata": {},
   "outputs": [],
   "source": [
    "send2trash.send2trash() : Using send2trash, we can send files to the Trash or Recycle Bin instead of permanently"
   ]
  },
  {
   "cell_type": "code",
   "execution_count": null,
   "id": "5aa0386d-47da-4bde-befe-e53f33fa281f",
   "metadata": {},
   "outputs": [],
   "source": [
    "deleting them. If the directory contains files or other folders, those are also deleted. A TrashPermissionError exception is raised, in case a file could not be deleted due to permission error or any other unexpected reason."
   ]
  },
  {
   "cell_type": "code",
   "execution_count": 6,
   "id": "a57f9b67-e28e-4007-aa28-a97873ac610a",
   "metadata": {},
   "outputs": [],
   "source": [
    "\n"
   ]
  },
  {
   "cell_type": "code",
   "execution_count": null,
   "id": "b5db8391-7242-4cfc-870c-52d61b14757f",
   "metadata": {},
   "outputs": [],
   "source": [
    "4.ZipFile objects have a close() method just like File objects’ close() method. What ZipFile method is\n",
    "equivalent to File objects’ open() method?"
   ]
  },
  {
   "cell_type": "code",
   "execution_count": null,
   "id": "03a33243-ab61-43e2-8765-1d60a5aadbd6",
   "metadata": {},
   "outputs": [],
   "source": [
    "from zipfile import Zipfile"
   ]
  },
  {
   "cell_type": "code",
   "execution_count": null,
   "id": "2fe0c3d4-6a0d-4e54-9821-6f0460b65cc7",
   "metadata": {},
   "outputs": [],
   "source": [
    "with ZipFile(file_name, 'r') as zip: -> this code will open specified zipfile for us. we can use zip object to preform other operation the ziplife. like zip.read()"
   ]
  },
  {
   "cell_type": "code",
   "execution_count": null,
   "id": "bebfb0a1-94b2-49db-9d62-5755f5d1c923",
   "metadata": {},
   "outputs": [],
   "source": []
  }
 ],
 "metadata": {
  "kernelspec": {
   "display_name": "Python 3 (ipykernel)",
   "language": "python",
   "name": "python3"
  },
  "language_info": {
   "codemirror_mode": {
    "name": "ipython",
    "version": 3
   },
   "file_extension": ".py",
   "mimetype": "text/x-python",
   "name": "python",
   "nbconvert_exporter": "python",
   "pygments_lexer": "ipython3",
   "version": "3.10.6"
  }
 },
 "nbformat": 4,
 "nbformat_minor": 5
}
